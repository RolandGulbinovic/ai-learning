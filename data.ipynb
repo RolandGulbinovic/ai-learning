{
 "cells": [
  {
   "cell_type": "code",
   "execution_count": 235,
   "id": "32529116",
   "metadata": {},
   "outputs": [
    {
     "name": "stdout",
     "output_type": "stream",
     "text": [
      "Perceptron classification accuracy 1.0\n"
     ]
    }
   ],
   "source": [
    "\n",
    "X, y = datasets.make_blobs(n_samples=1500, n_features= 4, centers = 2, cluster_std = 1.05, random_state =2)\n",
    "X_train, X_test, y_train, y_test = train_test_split(X, y, test_size = 0.9, random_state =123)\n",
    "\n",
    "\n",
    "p = Perceptron(learning_rate=0.01, n_iters=1)\n",
    "p.fit_sigmoid(X_train, y_train)\n",
    "predictions = p.predict_sigmoid(X_test)\n",
    "\n",
    "print(\"Perceptron classification accuracy\", accuracy(y_test, predictions))\n",
    "\n",
    "\n"
   ]
  },
  {
   "cell_type": "code",
   "execution_count": 570,
   "id": "2baa799d",
   "metadata": {},
   "outputs": [],
   "source": [
    "a = np.empty((np.array([1,3,4]).size,3))"
   ]
  },
  {
   "cell_type": "code",
   "execution_count": 7,
   "id": "512c9622",
   "metadata": {},
   "outputs": [],
   "source": [
    "import pandas as pd\n",
    "import numpy as np\n",
    "pd.set_option(\"display.max_rows\", None, \"display.max_columns\", None)\n",
    "from sklearn.model_selection import train_test_split\n",
    "from sklearn import datasets\n",
    "import matplotlib.pyplot as plt"
   ]
  },
  {
   "cell_type": "code",
   "execution_count": 9,
   "id": "5dcf1797",
   "metadata": {},
   "outputs": [
    {
     "data": {
      "text/plain": [
       "array([[5.1, 3.5, 1.4, 0.2, 0. ],\n",
       "       [4.9, 3. , 1.4, 0.2, 0. ],\n",
       "       [4.7, 3.2, 1.3, 0.2, 0. ],\n",
       "       [4.6, 3.1, 1.5, 0.2, 0. ],\n",
       "       [5. , 3.6, 1.4, 0.2, 0. ],\n",
       "       [5.4, 3.9, 1.7, 0.4, 0. ],\n",
       "       [4.6, 3.4, 1.4, 0.3, 0. ],\n",
       "       [5. , 3.4, 1.5, 0.2, 0. ],\n",
       "       [4.4, 2.9, 1.4, 0.2, 0. ],\n",
       "       [4.9, 3.1, 1.5, 0.1, 0. ],\n",
       "       [5.4, 3.7, 1.5, 0.2, 0. ],\n",
       "       [4.8, 3.4, 1.6, 0.2, 0. ],\n",
       "       [4.8, 3. , 1.4, 0.1, 0. ],\n",
       "       [4.3, 3. , 1.1, 0.1, 0. ],\n",
       "       [5.8, 4. , 1.2, 0.2, 0. ],\n",
       "       [5.7, 4.4, 1.5, 0.4, 0. ],\n",
       "       [5.4, 3.9, 1.3, 0.4, 0. ],\n",
       "       [5.1, 3.5, 1.4, 0.3, 0. ],\n",
       "       [5.7, 3.8, 1.7, 0.3, 0. ],\n",
       "       [5.1, 3.8, 1.5, 0.3, 0. ],\n",
       "       [5.4, 3.4, 1.7, 0.2, 0. ],\n",
       "       [5.1, 3.7, 1.5, 0.4, 0. ],\n",
       "       [4.6, 3.6, 1. , 0.2, 0. ],\n",
       "       [5.1, 3.3, 1.7, 0.5, 0. ],\n",
       "       [4.8, 3.4, 1.9, 0.2, 0. ],\n",
       "       [5. , 3. , 1.6, 0.2, 0. ],\n",
       "       [5. , 3.4, 1.6, 0.4, 0. ],\n",
       "       [5.2, 3.5, 1.5, 0.2, 0. ],\n",
       "       [5.2, 3.4, 1.4, 0.2, 0. ],\n",
       "       [4.7, 3.2, 1.6, 0.2, 0. ],\n",
       "       [4.8, 3.1, 1.6, 0.2, 0. ],\n",
       "       [5.4, 3.4, 1.5, 0.4, 0. ],\n",
       "       [5.2, 4.1, 1.5, 0.1, 0. ],\n",
       "       [5.5, 4.2, 1.4, 0.2, 0. ],\n",
       "       [4.9, 3.1, 1.5, 0.1, 0. ],\n",
       "       [5. , 3.2, 1.2, 0.2, 0. ],\n",
       "       [5.5, 3.5, 1.3, 0.2, 0. ],\n",
       "       [4.9, 3.1, 1.5, 0.1, 0. ],\n",
       "       [4.4, 3. , 1.3, 0.2, 0. ],\n",
       "       [5.1, 3.4, 1.5, 0.2, 0. ],\n",
       "       [5. , 3.5, 1.3, 0.3, 0. ],\n",
       "       [4.5, 2.3, 1.3, 0.3, 0. ],\n",
       "       [4.4, 3.2, 1.3, 0.2, 0. ],\n",
       "       [5. , 3.5, 1.6, 0.6, 0. ],\n",
       "       [5.1, 3.8, 1.9, 0.4, 0. ],\n",
       "       [4.8, 3. , 1.4, 0.3, 0. ],\n",
       "       [5.1, 3.8, 1.6, 0.2, 0. ],\n",
       "       [4.6, 3.2, 1.4, 0.2, 0. ],\n",
       "       [5.3, 3.7, 1.5, 0.2, 0. ],\n",
       "       [5. , 3.3, 1.4, 0.2, 0. ],\n",
       "       [7. , 3.2, 4.7, 1.4, 1. ],\n",
       "       [6.4, 3.2, 4.5, 1.5, 1. ],\n",
       "       [6.9, 3.1, 4.9, 1.5, 1. ],\n",
       "       [5.5, 2.3, 4. , 1.3, 1. ],\n",
       "       [6.5, 2.8, 4.6, 1.5, 1. ],\n",
       "       [5.7, 2.8, 4.5, 1.3, 1. ],\n",
       "       [6.3, 3.3, 4.7, 1.6, 1. ],\n",
       "       [4.9, 2.4, 3.3, 1. , 1. ],\n",
       "       [6.6, 2.9, 4.6, 1.3, 1. ],\n",
       "       [5.2, 2.7, 3.9, 1.4, 1. ],\n",
       "       [5. , 2. , 3.5, 1. , 1. ],\n",
       "       [5.9, 3. , 4.2, 1.5, 1. ],\n",
       "       [6. , 2.2, 4. , 1. , 1. ],\n",
       "       [6.1, 2.9, 4.7, 1.4, 1. ],\n",
       "       [5.6, 2.9, 3.6, 1.3, 1. ],\n",
       "       [6.7, 3.1, 4.4, 1.4, 1. ],\n",
       "       [5.6, 3. , 4.5, 1.5, 1. ],\n",
       "       [5.8, 2.7, 4.1, 1. , 1. ],\n",
       "       [6.2, 2.2, 4.5, 1.5, 1. ],\n",
       "       [5.6, 2.5, 3.9, 1.1, 1. ],\n",
       "       [5.9, 3.2, 4.8, 1.8, 1. ],\n",
       "       [6.1, 2.8, 4. , 1.3, 1. ],\n",
       "       [6.3, 2.5, 4.9, 1.5, 1. ],\n",
       "       [6.1, 2.8, 4.7, 1.2, 1. ],\n",
       "       [6.4, 2.9, 4.3, 1.3, 1. ],\n",
       "       [6.6, 3. , 4.4, 1.4, 1. ],\n",
       "       [6.8, 2.8, 4.8, 1.4, 1. ],\n",
       "       [6.7, 3. , 5. , 1.7, 1. ],\n",
       "       [6. , 2.9, 4.5, 1.5, 1. ],\n",
       "       [5.7, 2.6, 3.5, 1. , 1. ],\n",
       "       [5.5, 2.4, 3.8, 1.1, 1. ],\n",
       "       [5.5, 2.4, 3.7, 1. , 1. ],\n",
       "       [5.8, 2.7, 3.9, 1.2, 1. ],\n",
       "       [6. , 2.7, 5.1, 1.6, 1. ],\n",
       "       [5.4, 3. , 4.5, 1.5, 1. ],\n",
       "       [6. , 3.4, 4.5, 1.6, 1. ],\n",
       "       [6.7, 3.1, 4.7, 1.5, 1. ],\n",
       "       [6.3, 2.3, 4.4, 1.3, 1. ],\n",
       "       [5.6, 3. , 4.1, 1.3, 1. ],\n",
       "       [5.5, 2.5, 4. , 1.3, 1. ],\n",
       "       [5.5, 2.6, 4.4, 1.2, 1. ],\n",
       "       [6.1, 3. , 4.6, 1.4, 1. ],\n",
       "       [5.8, 2.6, 4. , 1.2, 1. ],\n",
       "       [5. , 2.3, 3.3, 1. , 1. ],\n",
       "       [5.6, 2.7, 4.2, 1.3, 1. ],\n",
       "       [5.7, 3. , 4.2, 1.2, 1. ],\n",
       "       [5.7, 2.9, 4.2, 1.3, 1. ],\n",
       "       [6.2, 2.9, 4.3, 1.3, 1. ],\n",
       "       [5.1, 2.5, 3. , 1.1, 1. ],\n",
       "       [5.7, 2.8, 4.1, 1.3, 1. ],\n",
       "       [6.3, 3.3, 6. , 2.5, 1. ],\n",
       "       [5.8, 2.7, 5.1, 1.9, 1. ],\n",
       "       [7.1, 3. , 5.9, 2.1, 1. ],\n",
       "       [6.3, 2.9, 5.6, 1.8, 1. ],\n",
       "       [6.5, 3. , 5.8, 2.2, 1. ],\n",
       "       [7.6, 3. , 6.6, 2.1, 1. ],\n",
       "       [4.9, 2.5, 4.5, 1.7, 1. ],\n",
       "       [7.3, 2.9, 6.3, 1.8, 1. ],\n",
       "       [6.7, 2.5, 5.8, 1.8, 1. ],\n",
       "       [7.2, 3.6, 6.1, 2.5, 1. ],\n",
       "       [6.5, 3.2, 5.1, 2. , 1. ],\n",
       "       [6.4, 2.7, 5.3, 1.9, 1. ],\n",
       "       [6.8, 3. , 5.5, 2.1, 1. ],\n",
       "       [5.7, 2.5, 5. , 2. , 1. ],\n",
       "       [5.8, 2.8, 5.1, 2.4, 1. ],\n",
       "       [6.4, 3.2, 5.3, 2.3, 1. ],\n",
       "       [6.5, 3. , 5.5, 1.8, 1. ],\n",
       "       [7.7, 3.8, 6.7, 2.2, 1. ],\n",
       "       [7.7, 2.6, 6.9, 2.3, 1. ],\n",
       "       [6. , 2.2, 5. , 1.5, 1. ],\n",
       "       [6.9, 3.2, 5.7, 2.3, 1. ],\n",
       "       [5.6, 2.8, 4.9, 2. , 1. ],\n",
       "       [7.7, 2.8, 6.7, 2. , 1. ],\n",
       "       [6.3, 2.7, 4.9, 1.8, 1. ],\n",
       "       [6.7, 3.3, 5.7, 2.1, 1. ],\n",
       "       [7.2, 3.2, 6. , 1.8, 1. ],\n",
       "       [6.2, 2.8, 4.8, 1.8, 1. ],\n",
       "       [6.1, 3. , 4.9, 1.8, 1. ],\n",
       "       [6.4, 2.8, 5.6, 2.1, 1. ],\n",
       "       [7.2, 3. , 5.8, 1.6, 1. ],\n",
       "       [7.4, 2.8, 6.1, 1.9, 1. ],\n",
       "       [7.9, 3.8, 6.4, 2. , 1. ],\n",
       "       [6.4, 2.8, 5.6, 2.2, 1. ],\n",
       "       [6.3, 2.8, 5.1, 1.5, 1. ],\n",
       "       [6.1, 2.6, 5.6, 1.4, 1. ],\n",
       "       [7.7, 3. , 6.1, 2.3, 1. ],\n",
       "       [6.3, 3.4, 5.6, 2.4, 1. ],\n",
       "       [6.4, 3.1, 5.5, 1.8, 1. ],\n",
       "       [6. , 3. , 4.8, 1.8, 1. ],\n",
       "       [6.9, 3.1, 5.4, 2.1, 1. ],\n",
       "       [6.7, 3.1, 5.6, 2.4, 1. ],\n",
       "       [6.9, 3.1, 5.1, 2.3, 1. ],\n",
       "       [5.8, 2.7, 5.1, 1.9, 1. ],\n",
       "       [6.8, 3.2, 5.9, 2.3, 1. ],\n",
       "       [6.7, 3.3, 5.7, 2.5, 1. ],\n",
       "       [6.7, 3. , 5.2, 2.3, 1. ],\n",
       "       [6.3, 2.5, 5. , 1.9, 1. ],\n",
       "       [6.5, 3. , 5.2, 2. , 1. ],\n",
       "       [6.2, 3.4, 5.4, 2.3, 1. ],\n",
       "       [5.9, 3. , 5.1, 1.8, 1. ]])"
      ]
     },
     "execution_count": 9,
     "metadata": {},
     "output_type": "execute_result"
    }
   ],
   "source": [
    "data1 = pd.read_csv(\"iris_data\", sep = \",\", header = None)\n",
    "data1.columns =  ['sep_len', 'sep_wid', 'pet_len', 'pet_wid', 'class']\n",
    "data1['class'] = data1['class'].replace(['Iris-setosa', 'Iris-versicolor', 'Iris-virginica'], [0, 1, 1])\n",
    "\n",
    "\n",
    "data1 = data1.to_numpy()\n",
    "data1"
   ]
  },
  {
   "cell_type": "code",
   "execution_count": 10,
   "id": "864a019e",
   "metadata": {},
   "outputs": [
    {
     "data": {
      "text/plain": [
       "array([[7. , 3.2, 4.7, 1.4, 0. ],\n",
       "       [6.4, 3.2, 4.5, 1.5, 0. ],\n",
       "       [6.9, 3.1, 4.9, 1.5, 0. ],\n",
       "       [5.5, 2.3, 4. , 1.3, 0. ],\n",
       "       [6.5, 2.8, 4.6, 1.5, 0. ],\n",
       "       [5.7, 2.8, 4.5, 1.3, 0. ],\n",
       "       [6.3, 3.3, 4.7, 1.6, 0. ],\n",
       "       [4.9, 2.4, 3.3, 1. , 0. ],\n",
       "       [6.6, 2.9, 4.6, 1.3, 0. ],\n",
       "       [5.2, 2.7, 3.9, 1.4, 0. ],\n",
       "       [5. , 2. , 3.5, 1. , 0. ],\n",
       "       [5.9, 3. , 4.2, 1.5, 0. ],\n",
       "       [6. , 2.2, 4. , 1. , 0. ],\n",
       "       [6.1, 2.9, 4.7, 1.4, 0. ],\n",
       "       [5.6, 2.9, 3.6, 1.3, 0. ],\n",
       "       [6.7, 3.1, 4.4, 1.4, 0. ],\n",
       "       [5.6, 3. , 4.5, 1.5, 0. ],\n",
       "       [5.8, 2.7, 4.1, 1. , 0. ],\n",
       "       [6.2, 2.2, 4.5, 1.5, 0. ],\n",
       "       [5.6, 2.5, 3.9, 1.1, 0. ],\n",
       "       [5.9, 3.2, 4.8, 1.8, 0. ],\n",
       "       [6.1, 2.8, 4. , 1.3, 0. ],\n",
       "       [6.3, 2.5, 4.9, 1.5, 0. ],\n",
       "       [6.1, 2.8, 4.7, 1.2, 0. ],\n",
       "       [6.4, 2.9, 4.3, 1.3, 0. ],\n",
       "       [6.6, 3. , 4.4, 1.4, 0. ],\n",
       "       [6.8, 2.8, 4.8, 1.4, 0. ],\n",
       "       [6.7, 3. , 5. , 1.7, 0. ],\n",
       "       [6. , 2.9, 4.5, 1.5, 0. ],\n",
       "       [5.7, 2.6, 3.5, 1. , 0. ],\n",
       "       [5.5, 2.4, 3.8, 1.1, 0. ],\n",
       "       [5.5, 2.4, 3.7, 1. , 0. ],\n",
       "       [5.8, 2.7, 3.9, 1.2, 0. ],\n",
       "       [6. , 2.7, 5.1, 1.6, 0. ],\n",
       "       [5.4, 3. , 4.5, 1.5, 0. ],\n",
       "       [6. , 3.4, 4.5, 1.6, 0. ],\n",
       "       [6.7, 3.1, 4.7, 1.5, 0. ],\n",
       "       [6.3, 2.3, 4.4, 1.3, 0. ],\n",
       "       [5.6, 3. , 4.1, 1.3, 0. ],\n",
       "       [5.5, 2.5, 4. , 1.3, 0. ],\n",
       "       [5.5, 2.6, 4.4, 1.2, 0. ],\n",
       "       [6.1, 3. , 4.6, 1.4, 0. ],\n",
       "       [5.8, 2.6, 4. , 1.2, 0. ],\n",
       "       [5. , 2.3, 3.3, 1. , 0. ],\n",
       "       [5.6, 2.7, 4.2, 1.3, 0. ],\n",
       "       [5.7, 3. , 4.2, 1.2, 0. ],\n",
       "       [5.7, 2.9, 4.2, 1.3, 0. ],\n",
       "       [6.2, 2.9, 4.3, 1.3, 0. ],\n",
       "       [5.1, 2.5, 3. , 1.1, 0. ],\n",
       "       [5.7, 2.8, 4.1, 1.3, 0. ],\n",
       "       [6.3, 3.3, 6. , 2.5, 1. ],\n",
       "       [5.8, 2.7, 5.1, 1.9, 1. ],\n",
       "       [7.1, 3. , 5.9, 2.1, 1. ],\n",
       "       [6.3, 2.9, 5.6, 1.8, 1. ],\n",
       "       [6.5, 3. , 5.8, 2.2, 1. ],\n",
       "       [7.6, 3. , 6.6, 2.1, 1. ],\n",
       "       [4.9, 2.5, 4.5, 1.7, 1. ],\n",
       "       [7.3, 2.9, 6.3, 1.8, 1. ],\n",
       "       [6.7, 2.5, 5.8, 1.8, 1. ],\n",
       "       [7.2, 3.6, 6.1, 2.5, 1. ],\n",
       "       [6.5, 3.2, 5.1, 2. , 1. ],\n",
       "       [6.4, 2.7, 5.3, 1.9, 1. ],\n",
       "       [6.8, 3. , 5.5, 2.1, 1. ],\n",
       "       [5.7, 2.5, 5. , 2. , 1. ],\n",
       "       [5.8, 2.8, 5.1, 2.4, 1. ],\n",
       "       [6.4, 3.2, 5.3, 2.3, 1. ],\n",
       "       [6.5, 3. , 5.5, 1.8, 1. ],\n",
       "       [7.7, 3.8, 6.7, 2.2, 1. ],\n",
       "       [7.7, 2.6, 6.9, 2.3, 1. ],\n",
       "       [6. , 2.2, 5. , 1.5, 1. ],\n",
       "       [6.9, 3.2, 5.7, 2.3, 1. ],\n",
       "       [5.6, 2.8, 4.9, 2. , 1. ],\n",
       "       [7.7, 2.8, 6.7, 2. , 1. ],\n",
       "       [6.3, 2.7, 4.9, 1.8, 1. ],\n",
       "       [6.7, 3.3, 5.7, 2.1, 1. ],\n",
       "       [7.2, 3.2, 6. , 1.8, 1. ],\n",
       "       [6.2, 2.8, 4.8, 1.8, 1. ],\n",
       "       [6.1, 3. , 4.9, 1.8, 1. ],\n",
       "       [6.4, 2.8, 5.6, 2.1, 1. ],\n",
       "       [7.2, 3. , 5.8, 1.6, 1. ],\n",
       "       [7.4, 2.8, 6.1, 1.9, 1. ],\n",
       "       [7.9, 3.8, 6.4, 2. , 1. ],\n",
       "       [6.4, 2.8, 5.6, 2.2, 1. ],\n",
       "       [6.3, 2.8, 5.1, 1.5, 1. ],\n",
       "       [6.1, 2.6, 5.6, 1.4, 1. ],\n",
       "       [7.7, 3. , 6.1, 2.3, 1. ],\n",
       "       [6.3, 3.4, 5.6, 2.4, 1. ],\n",
       "       [6.4, 3.1, 5.5, 1.8, 1. ],\n",
       "       [6. , 3. , 4.8, 1.8, 1. ],\n",
       "       [6.9, 3.1, 5.4, 2.1, 1. ],\n",
       "       [6.7, 3.1, 5.6, 2.4, 1. ],\n",
       "       [6.9, 3.1, 5.1, 2.3, 1. ],\n",
       "       [5.8, 2.7, 5.1, 1.9, 1. ],\n",
       "       [6.8, 3.2, 5.9, 2.3, 1. ],\n",
       "       [6.7, 3.3, 5.7, 2.5, 1. ],\n",
       "       [6.7, 3. , 5.2, 2.3, 1. ],\n",
       "       [6.3, 2.5, 5. , 1.9, 1. ],\n",
       "       [6.5, 3. , 5.2, 2. , 1. ],\n",
       "       [6.2, 3.4, 5.4, 2.3, 1. ],\n",
       "       [5.9, 3. , 5.1, 1.8, 1. ]])"
      ]
     },
     "execution_count": 10,
     "metadata": {},
     "output_type": "execute_result"
    }
   ],
   "source": [
    "data2 = pd.read_csv(\"iris_data\", sep = \",\", header = None)\n",
    "data2.columns =  ['sep_len', 'sep_wid', 'pet_len', 'pet_wid', 'class']\n",
    "data2 = data2[data2['class'] != 'Iris-setosa']\n",
    "data2['class'] = data2['class'].replace(['Iris-versicolor', 'Iris-virginica'], [0, 1])\n",
    "data2 = data2.to_numpy()\n",
    "\n",
    "data2"
   ]
  },
  {
   "cell_type": "code",
   "execution_count": 651,
   "id": "d8e72f1c",
   "metadata": {},
   "outputs": [],
   "source": [
    "class Perceptron:\n",
    "    def __init__(self, learning_rate=0.01, n_iters=5, n_epochs = 1):\n",
    "        self.lr = learning_rate\n",
    "        self.n_iters = n_iters\n",
    "        self.n_epochs = n_epochs\n",
    "        self.activation_func = self.slenk\n",
    "        self.sigmoid = self.sigmoid\n",
    "        self.sigmoid2 = self.sigmoid2\n",
    "        self.weights = None\n",
    "        self.bias = None\n",
    "        self.paklaida = 0\n",
    "        \n",
    "        \n",
    "    def slenk(self, x):\n",
    "        return np.where(x>= 0, 1, 0)\n",
    "    \n",
    "    def sigmoid(self, x):\n",
    "        return np.where((1/(1 + np.exp(-x))) >= 0.4, 1, 0)\n",
    "    \n",
    "    def sigmoid2(self, x):\n",
    "        return 1/(1+np.exp(-x))\n",
    "    \n",
    "    def fit_slenk(self, X, y):\n",
    "        n_samples, n_features = X.shape\n",
    "        \n",
    "        # init weights\n",
    "        self.weights = np.zeros(n_features)\n",
    "        self.bias = 0\n",
    "        \n",
    "        y_ = np.array([1 if i > 0 else 0 for i in y])\n",
    "        print(\"TYPE IS \" + str(type(y_[1])))\n",
    "        predicted = np.zeros((y_.size), dtype =\"int64\")\n",
    "        for _e in range(self.n_epochs):\n",
    "            for _ in range(self.n_iters):\n",
    "                print(y_)\n",
    "                print(predicted)\n",
    "                if(not np.array_equal(y_,predicted)):\n",
    "                    predicted = np.zeros((y_.size), dtype = \"int64\")\n",
    "                    for idx, x_i in enumerate(X):\n",
    "                        linear_output = np.dot(x_i, self.weights) + self.bias\n",
    "                        y_predicted = self.activation_func(linear_output)\n",
    "                        #print(str(_) +\"real {\" + str(y_[idx]) + \"} , predicted {\"+ str(y_predicted) + \"}\")\n",
    "                        if(y_[idx] != y_predicted):\n",
    "                            update = self.lr * (y_[idx] - y_predicted)\n",
    "                            self.weights += update * x_i\n",
    "                            self.bias += update\n",
    "                        \n",
    "                        self.paklaida += (y_[idx] - y_predicted)**2\n",
    "                    \n",
    "                        linear_output = np.dot(x_i, self.weights) + self.bias\n",
    "                        y_predicted = self.activation_func(linear_output)\n",
    "                    \n",
    "                        predicted[idx] = y_predicted\n",
    "                else:\n",
    "                    print(\"RASTI SVORIAI\")\n",
    "                    break   \n",
    "                        \n",
    "                self.paklaida = self.paklaida/2\n",
    "                                    \n",
    "    def fit_sigmoid(self, X, y):\n",
    "        n_samples, n_features = X.shape\n",
    "        \n",
    "        # init weights\n",
    "        self.weights = np.zeros(n_features)\n",
    "        self.bias = 0\n",
    "        \n",
    "        y_ = np.array([1 if i > 0 else 0 for i in y])\n",
    "        \n",
    "        for _ in range(self.n_epochs):\n",
    "            for _ in range(self.n_iters):\n",
    "                for idx, x_i in enumerate(X):\n",
    "                    linear_output = np.dot(x_i, self.weights) + self.bias\n",
    "                    #print(linear_output)\n",
    "                    y_predicted = self.sigmoid(linear_output)\n",
    "                    \n",
    "                    y_predicted2 = self.sigmoid2(linear_output)\n",
    "                    self.paklaida += (y_[idx] - y_predicted2)**2\n",
    "                    \n",
    "                    if(y_predicted != y_[idx]):\n",
    "                        update = self.lr * (y_[idx] - y_predicted)\n",
    "                        self.weights += update * x_i\n",
    "                        self.bias += update\n",
    "                    \n",
    "                    \n",
    "                self.paklaida = self.paklaida/2\n",
    "                    \n",
    "                    \n",
    "    \n",
    "    def predict_slenk(self, X):\n",
    "        linear_output = np.dot(X, self.weights) + self.bias\n",
    "        y_predicted = self.sigmoid(linear_output)\n",
    "        return y_predicted\n",
    "    \n",
    "    \n",
    "    def predict_sigmoid(self, X):\n",
    "        linear_output = np.dot(X, self.weights) + self.bias\n",
    "        y_predicted = self.sigmoid(linear_output)\n",
    "        return y_predicted"
   ]
  },
  {
   "cell_type": "code",
   "execution_count": 652,
   "id": "144d800e",
   "metadata": {},
   "outputs": [],
   "source": [
    "data1_x = data1[:,0:4]\n",
    "data1_y = data1[:,4]\n",
    "data2_x = data2[:,0:4]\n",
    "data2_y = data2[:,4]"
   ]
  },
  {
   "cell_type": "code",
   "execution_count": 665,
   "id": "13f226f0",
   "metadata": {},
   "outputs": [
    {
     "name": "stdout",
     "output_type": "stream",
     "text": [
      "TYPE IS <class 'numpy.int64'>\n",
      "[1 1 0 0 1 1 1 0 0 1 1 0 1 1 1 1 1 1 0 0 1 0 0 1 1 1 1 1 1 1 0 1 1 0 0 1 1\n",
      " 1 1 0 1 1 1 0 1 1 1 0 1 1 0 0 1 1 1 0 0 1 0 1 1 0 1 0 0 1 0 0 1 1 1 1 1 0\n",
      " 0 1 1 0 0 1 1 1 1 1 1 1 1 0 0 1 1 1 1 1 0 1 0 1 1 0 1 1 1 1 1 0 1 0 1 1 1\n",
      " 1 1 1 1 0 1 1 1 1]\n",
      "[0 0 0 0 0 0 0 0 0 0 0 0 0 0 0 0 0 0 0 0 0 0 0 0 0 0 0 0 0 0 0 0 0 0 0 0 0\n",
      " 0 0 0 0 0 0 0 0 0 0 0 0 0 0 0 0 0 0 0 0 0 0 0 0 0 0 0 0 0 0 0 0 0 0 0 0 0\n",
      " 0 0 0 0 0 0 0 0 0 0 0 0 0 0 0 0 0 0 0 0 0 0 0 0 0 0 0 0 0 0 0 0 0 0 0 0 0\n",
      " 0 0 0 0 0 0 0 0 0]\n",
      "[1 1 0 0 1 1 1 0 0 1 1 0 1 1 1 1 1 1 0 0 1 0 0 1 1 1 1 1 1 1 0 1 1 0 0 1 1\n",
      " 1 1 0 1 1 1 0 1 1 1 0 1 1 0 0 1 1 1 0 0 1 0 1 1 0 1 0 0 1 0 0 1 1 1 1 1 0\n",
      " 0 1 1 0 0 1 1 1 1 1 1 1 1 0 0 1 1 1 1 1 0 1 0 1 1 0 1 1 1 1 1 0 1 0 1 1 1\n",
      " 1 1 1 1 0 1 1 1 1]\n",
      "[1 1 0 0 1 1 1 0 0 1 1 0 1 1 1 1 1 1 0 0 1 0 0 1 1 1 1 1 1 1 0 1 1 0 0 1 1\n",
      " 1 1 0 1 1 1 0 1 1 1 0 1 1 0 0 1 1 1 0 0 1 0 1 1 0 1 0 0 1 0 0 1 1 1 1 1 0\n",
      " 0 1 1 0 0 1 1 1 1 1 1 1 1 0 0 1 1 1 1 1 0 1 0 1 1 0 1 1 1 1 1 0 1 0 1 1 1\n",
      " 1 1 1 1 0 1 1 1 1]\n",
      "RASTI SVORIAI\n",
      "[-0.16 -0.6   0.78  0.34]\n",
      "-0.1\n",
      "3.5\n"
     ]
    },
    {
     "data": {
      "text/plain": [
       "Text(0, 0.5, 'Klasifikavimo tikslumas')"
      ]
     },
     "execution_count": 665,
     "metadata": {},
     "output_type": "execute_result"
    },
    {
     "data": {
      "image/png": "[encoded data removed]",
      "text/plain": [
       "<Figure size 432x288 with 1 Axes>"
      ]
     },
     "metadata": {
      "needs_background": "light"
     },
     "output_type": "display_data"
    }
   ],
   "source": [
    "# Slenkstine funkcija\n",
    "def accuracy(y_true, y_pred):\n",
    "    accuracy = np.sum(y_true == y_pred) / len(y_true)\n",
    "    return accuracy\n",
    "\n",
    "p = Perceptron(learning_rate=0.1, n_iters=10)\n",
    "X_train, X_test, y_train, y_test = train_test_split(data1_x, data1_y, test_size = 0.2, random_state =123)\n",
    "p.fit_slenk(X_train, y_train)\n",
    "predictions = p.predict_slenk(X_test)\n",
    "\n",
    "print(p.weights)\n",
    "print(p.bias)\n",
    "print(p.paklaida)\n",
    "x = [0.1, 0.3, 0.5, 0.6, 0.8, 1]\n",
    "y = [1.0, 1.0, 1.0, 1.0, 1.0, 1.0]\n",
    "plt.plot(x,y)\n",
    "plt.xlabel(\"Mokymo greitis\")\n",
    "plt.ylabel(\"Klasifikavimo tikslumas\")\n"
   ]
  },
  {
   "cell_type": "code",
   "execution_count": 602,
   "id": "e2104df2",
   "metadata": {},
   "outputs": [
    {
     "name": "stdout",
     "output_type": "stream",
     "text": [
      "1.0\n"
     ]
    }
   ],
   "source": [
    "print(accuracy(y_test, predictions))"
   ]
  },
  {
   "cell_type": "code",
   "execution_count": 672,
   "id": "aa95d133",
   "metadata": {},
   "outputs": [
    {
     "name": "stdout",
     "output_type": "stream",
     "text": [
      "[-1.6 -6.   7.8  3.4]\n",
      "-1\n",
      "0.009015117523375417\n",
      "1.0\n"
     ]
    }
   ],
   "source": [
    "# SIGMOIDINE\n",
    "p = Perceptron(learning_rate= 1, n_iters = 10)\n",
    "X_train, X_test, y_train, y_test = train_test_split(data1_x, data1_y, test_size = 0.2, random_state =123)\n",
    "\n",
    "p.fit_sigmoid(X_train, y_train)\n",
    "predictions = p.predict_sigmoid(X_test)\n",
    "print(p.weights)\n",
    "print(p.bias)\n",
    "print(p.paklaida)\n",
    "\n",
    "print(accuracy(y_test, predictions))"
   ]
  },
  {
   "cell_type": "code",
   "execution_count": 671,
   "id": "018a450c",
   "metadata": {},
   "outputs": [
    {
     "name": "stdout",
     "output_type": "stream",
     "text": [
      "TYPE IS <class 'numpy.int64'>\n",
      "[0 1 0 0 0 1 1 0 1 0 0 1 0 1 1 1 1 1 1 0 0 1 0 1 0 1 0 1 0 1 0 0 1 0 0 1 0\n",
      " 0 1 0 0 1 0 0 0 0 1 1 1 0 0 0 0 1 0 0 1 1 1 0 0 1 1 0 1 1 0 1 1 0 0 0 1 0\n",
      " 1 1 1 0 1 1]\n",
      "[0 0 0 0 0 0 0 0 0 0 0 0 0 0 0 0 0 0 0 0 0 0 0 0 0 0 0 0 0 0 0 0 0 0 0 0 0\n",
      " 0 0 0 0 0 0 0 0 0 0 0 0 0 0 0 0 0 0 0 0 0 0 0 0 0 0 0 0 0 0 0 0 0 0 0 0 0\n",
      " 0 0 0 0 0 0]\n",
      "[0 1 0 0 0 1 1 0 1 0 0 1 0 1 1 1 1 1 1 0 0 1 0 1 0 1 0 1 0 1 0 0 1 0 0 1 0\n",
      " 0 1 0 0 1 0 0 0 0 1 1 1 0 0 0 0 1 0 0 1 1 1 0 0 1 1 0 1 1 0 1 1 0 0 0 1 0\n",
      " 1 1 1 0 1 1]\n",
      "[0 1 0 0 0 1 1 0 1 0 0 1 0 1 1 1 1 1 1 0 0 1 0 1 1 1 0 1 0 1 0 0 1 0 0 1 0\n",
      " 0 1 1 0 1 0 0 0 0 1 1 1 0 0 0 0 1 1 0 1 1 1 0 0 1 1 0 1 1 0 1 1 0 0 0 1 0\n",
      " 1 1 1 0 1 1]\n",
      "[0 1 0 0 0 1 1 0 1 0 0 1 0 1 1 1 1 1 1 0 0 1 0 1 0 1 0 1 0 1 0 0 1 0 0 1 0\n",
      " 0 1 0 0 1 0 0 0 0 1 1 1 0 0 0 0 1 0 0 1 1 1 0 0 1 1 0 1 1 0 1 1 0 0 0 1 0\n",
      " 1 1 1 0 1 1]\n",
      "[0 1 0 0 0 1 1 0 1 0 0 1 0 1 1 1 1 1 1 0 0 1 0 1 0 1 0 1 0 1 0 0 1 0 0 1 0\n",
      " 0 1 0 0 1 0 0 0 0 1 1 1 0 0 0 0 1 0 0 1 1 1 0 0 1 1 0 1 1 0 1 1 0 0 0 1 0\n",
      " 1 1 1 0 1 1]\n",
      "RASTI SVORIAI\n",
      "[-8.4 -7.8 12.9  9.5]\n",
      "-5\n",
      "17.0\n",
      "1.0\n"
     ]
    },
    {
     "data": {
      "text/plain": [
       "Text(0, 0.5, 'Klasifikavimo tikslumas')"
      ]
     },
     "execution_count": 671,
     "metadata": {},
     "output_type": "execute_result"
    },
    {
     "data": {
      "image/png": "[encoded data removed]",
      "text/plain": [
       "<Figure size 432x288 with 1 Axes>"
      ]
     },
     "metadata": {
      "needs_background": "light"
     },
     "output_type": "display_data"
    }
   ],
   "source": [
    "# SLENKSTINE SU DATA 2\n",
    "p = Perceptron(learning_rate = 1, n_iters = 100)\n",
    "X_train, X_test, y_train, y_test = train_test_split(data2_x, data2_y, test_size = 0.2, random_state = 123)\n",
    "p.fit_slenk(X_train,y_train)\n",
    "predictions = p.predict_slenk(X_test)\n",
    "print(p.weights)\n",
    "print(p.bias)\n",
    "print(p.paklaida)\n",
    "x = [0.1, 0.3, 0.5, 0.6, 0.8, 1]\n",
    "y = [0.35, 0.35, 0.35, 0.35, 0.35, 0.35]\n",
    "print(accuracy(y_test, predictions))\n",
    "plt.plot(x,y)\n",
    "plt.xlabel(\"Mokymo greitis\")\n",
    "plt.ylabel(\"Klasifikavimo tikslumas\")"
   ]
  },
  {
   "cell_type": "code",
   "execution_count": 663,
   "id": "faf6ec3a",
   "metadata": {},
   "outputs": [
    {
     "data": {
      "text/plain": [
       "1.0"
      ]
     },
     "execution_count": 663,
     "metadata": {},
     "output_type": "execute_result"
    }
   ],
   "source": [
    "accuracy(predictions ,y_test)"
   ]
  },
  {
   "cell_type": "code",
   "execution_count": 386,
   "id": "ea51c143",
   "metadata": {},
   "outputs": [
    {
     "name": "stdout",
     "output_type": "stream",
     "text": [
      "real {0} , predicted {1}\n",
      "real {1} , predicted {0}\n",
      "real {0} , predicted {1}\n",
      "real {0} , predicted {0}\n",
      "real {0} , predicted {0}\n",
      "real {1} , predicted {0}\n",
      "real {1} , predicted {1}\n",
      "real {0} , predicted {1}\n",
      "real {1} , predicted {0}\n",
      "real {0} , predicted {1}\n",
      "real {0} , predicted {0}\n",
      "real {1} , predicted {0}\n",
      "real {0} , predicted {1}\n",
      "real {1} , predicted {0}\n",
      "real {1} , predicted {1}\n",
      "real {1} , predicted {1}\n",
      "real {1} , predicted {1}\n",
      "real {1} , predicted {1}\n",
      "real {1} , predicted {1}\n",
      "real {0} , predicted {1}\n",
      "real {0} , predicted {0}\n",
      "real {1} , predicted {0}\n",
      "real {0} , predicted {1}\n",
      "real {1} , predicted {0}\n",
      "real {0} , predicted {1}\n",
      "real {1} , predicted {1}\n",
      "real {0} , predicted {1}\n",
      "real {1} , predicted {0}\n",
      "real {0} , predicted {1}\n",
      "real {1} , predicted {0}\n",
      "real {0} , predicted {1}\n",
      "real {0} , predicted {0}\n",
      "real {1} , predicted {0}\n",
      "real {0} , predicted {1}\n",
      "real {0} , predicted {0}\n",
      "real {1} , predicted {0}\n",
      "real {0} , predicted {1}\n",
      "real {0} , predicted {0}\n",
      "real {1} , predicted {0}\n",
      "real {0} , predicted {1}\n",
      "real {0} , predicted {1}\n",
      "real {1} , predicted {0}\n",
      "real {0} , predicted {1}\n",
      "real {0} , predicted {0}\n",
      "real {0} , predicted {0}\n",
      "real {0} , predicted {0}\n",
      "real {1} , predicted {0}\n",
      "real {1} , predicted {1}\n",
      "real {1} , predicted {1}\n",
      "real {0} , predicted {1}\n",
      "real {0} , predicted {0}\n",
      "real {0} , predicted {0}\n",
      "real {0} , predicted {0}\n",
      "real {1} , predicted {0}\n",
      "real {0} , predicted {1}\n",
      "real {0} , predicted {1}\n",
      "real {1} , predicted {0}\n",
      "real {1} , predicted {1}\n",
      "real {1} , predicted {1}\n",
      "real {0} , predicted {1}\n",
      "real {0} , predicted {0}\n",
      "real {1} , predicted {0}\n",
      "real {1} , predicted {1}\n",
      "real {0} , predicted {1}\n",
      "real {1} , predicted {1}\n",
      "real {1} , predicted {1}\n",
      "real {0} , predicted {0}\n",
      "real {1} , predicted {1}\n",
      "real {1} , predicted {1}\n",
      "real {0} , predicted {0}\n",
      "real {0} , predicted {0}\n",
      "real {0} , predicted {0}\n",
      "real {1} , predicted {1}\n",
      "real {0} , predicted {0}\n",
      "real {1} , predicted {1}\n",
      "real {1} , predicted {1}\n",
      "real {1} , predicted {1}\n",
      "real {0} , predicted {0}\n",
      "real {1} , predicted {1}\n",
      "real {1} , predicted {1}\n",
      "[-6.5 -5.2 10.   7.5]\n",
      "-4\n",
      "17.915060456957224\n"
     ]
    }
   ],
   "source": [
    "# SIGMODINE SU DATA 2\n",
    "p = Perceptron(learning_rate = 1, n_iters = 1, n_epochs = 1)\n",
    "X_train, X_test, y_train, y_test = train_test_split(data2_x, data2_y, test_size = 0.2, random_state = 123)\n",
    "p.fit_sigmoid(X_train,y_train)\n",
    "predictions = p.predict_sigmoid(X_test)\n",
    "print(p.weights)\n",
    "print(p.bias)\n",
    "print(p.paklaida)"
   ]
  },
  {
   "cell_type": "code",
   "execution_count": 359,
   "id": "59636cc7",
   "metadata": {},
   "outputs": [
    {
     "data": {
      "text/plain": [
       "0.95"
      ]
     },
     "execution_count": 359,
     "metadata": {},
     "output_type": "execute_result"
    }
   ],
   "source": [
    "accuracy(predictions, y_test)"
   ]
  },
  {
   "cell_type": "code",
   "execution_count": 245,
   "id": "c7425461",
   "metadata": {},
   "outputs": [
    {
     "name": "stdout",
     "output_type": "stream",
     "text": [
      "[0. 1. 1. 0. 1. 0. 0. 1. 1. 0. 0. 1. 1. 1. 0. 0. 1. 0. 1. 1. 0. 1. 0. 0.\n",
      " 0. 1. 1. 0. 1. 0.]\n"
     ]
    },
    {
     "data": {
      "text/plain": [
       "array([0, 1, 1, 0, 1, 0, 0, 1, 0, 0, 0, 1, 1, 1, 0, 0, 1, 0, 1, 1, 0, 1,\n",
       "       0, 0, 0, 1, 1, 0, 1, 0])"
      ]
     },
     "execution_count": 245,
     "metadata": {},
     "output_type": "execute_result"
    }
   ],
   "source": [
    "print(np.array(y_test))\n",
    "predictions"
   ]
  },
  {
   "cell_type": "code",
   "execution_count": null,
   "id": "70b4e237",
   "metadata": {},
   "outputs": [],
   "source": [
    "plot(predic)"
   ]
  }
 ],
 "metadata": {
  "kernelspec": {
   "display_name": "Python 3",
   "language": "python",
   "name": "python3"
  },
  "language_info": {
   "codemirror_mode": {
    "name": "ipython",
    "version": 3
   },
   "file_extension": ".py",
   "mimetype": "text/x-python",
   "name": "python",
   "nbconvert_exporter": "python",
   "pygments_lexer": "ipython3",
   "version": "3.8.8"
  }
 },
 "nbformat": 4,
 "nbformat_minor": 5
}
