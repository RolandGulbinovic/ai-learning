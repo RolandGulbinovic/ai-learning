{
 "cells": [
  {
   "cell_type": "code",
   "execution_count": 53,
   "id": "e0553189",
   "metadata": {},
   "outputs": [],
   "source": [
    "import numpy as np"
   ]
  },
  {
   "cell_type": "code",
   "execution_count": 54,
   "id": "cabbea15",
   "metadata": {},
   "outputs": [],
   "source": [
    "def bias(result):\n",
    "    if result >= 0:\n",
    "        return 1\n",
    "    if result < 0:\n",
    "        return 0"
   ]
  },
  {
   "cell_type": "code",
   "execution_count": 55,
   "id": "605b137f",
   "metadata": {},
   "outputs": [],
   "source": [
    "k = -0.2  # slenkstis\n",
    "\n",
    "w = np.linspace(-1, 1, 21) # sukuriame svoriu intervala (-5, 5)\n",
    "# po 0.1\n",
    "\n",
    "\n",
    "def calc_bias0(x_1, x_2): # metodas gauti masyva kur klasifikatoriaus reiksme 0\n",
    "    results_w_1 = np.array([]) # Tuscias masyvas\n",
    "    for i in w:\n",
    "        for j in w:\n",
    "            y = x_1*i + x_2*j + k # suskaiciuojama suma\n",
    "            result = bias(y) # panaudota aktyvacijos funkcija\n",
    "            if result == 0:\n",
    "                results_w_1 = np.append(results_w_1, [i, j])\n",
    "\n",
    "    n = results_w_1.size\n",
    "    n = int(n/2)\n",
    "    results_w_1 = results_w_1.reshape(n, 2)\n",
    "    \n",
    "    return results_w_1 # graziname masyva su visais svoriais, kur gauname klasifikatoriu 0\n",
    "\n",
    "def calc_bias1(x_1, x_2): # metodas gauti masyva kur klasifikatorius 1\n",
    "    results_w_1 = np.array([])\n",
    "    for i in w:\n",
    "        for j in w:\n",
    "            y = x_1*i + x_2*j + k\n",
    "            result = bias(y) # panaudota aktyvacijos funkcija\n",
    "            if result == 1:\n",
    "                results_w_1 = np.append(results_w_1, [i, j])\n",
    "\n",
    "    n = results_w_1.size\n",
    "\n",
    "    n = int(n/2)\n",
    "    results_w_1 = results_w_1.reshape(n, 2)\n",
    "    \n",
    "    return results_w_1 # graziname masyva su visais svoriais kur klasifikatorius = 1\n"
   ]
  },
  {
   "cell_type": "code",
   "execution_count": 56,
   "id": "3c81c6bf",
   "metadata": {},
   "outputs": [],
   "source": [
    "arr_1 = calc_bias0(-0.2, 0.5)\n",
    "arr_2 = calc_bias0(0.2, -0.5)\n",
    "arr_3 = calc_bias1(0.8, -0.8)\n",
    "arr_4 = calc_bias1(0.8, 0.8)"
   ]
  },
  {
   "cell_type": "code",
   "execution_count": 57,
   "id": "747a07a5",
   "metadata": {},
   "outputs": [],
   "source": [
    "def compare(arr_1, arr_2): # Palyginimo metodas\n",
    "    results_w = np.array([])\n",
    "    for i in arr_1:\n",
    "        for j in arr_2:\n",
    "            if i[0] == j[0]:\n",
    "                if i[1] == j[1]:\n",
    "                    results_w = np.append(results_w, [i, j])\n",
    "\n",
    "    n = results_w.size\n",
    "    n = int(n/2)\n",
    "    results_w = results_w.reshape(n, 2)\n",
    "    \n",
    "    return results_w # graziname pasikartojancias reiksmes \n"
   ]
  },
  {
   "cell_type": "code",
   "execution_count": 58,
   "id": "a1f8ba5f",
   "metadata": {},
   "outputs": [],
   "source": [
    "a_1 = compare(arr_1, arr_2)\n",
    "a_2 = compare(arr_3, arr_4)\n",
    "a = compare(a_1, a_2)\n",
    "a = np.unique(a, axis = 0) # istriname nereikalingas\n"
   ]
  },
  {
   "cell_type": "code",
   "execution_count": 60,
   "id": "156b4afa",
   "metadata": {},
   "outputs": [
    {
     "name": "stdout",
     "output_type": "stream",
     "text": [
      "[[ 0.3  0. ]\n",
      " [ 0.4 -0.1]\n",
      " [ 0.4  0. ]\n",
      " [ 0.4  0.1]\n",
      " [ 0.5 -0.2]\n",
      " [ 0.5 -0.1]\n",
      " [ 0.5  0. ]\n",
      " [ 0.5  0.1]\n",
      " [ 0.5  0.2]\n",
      " [ 0.6 -0.1]\n",
      " [ 0.6  0. ]\n",
      " [ 0.6  0.1]\n",
      " [ 0.6  0.2]\n",
      " [ 0.6  0.3]\n",
      " [ 0.7 -0.1]\n",
      " [ 0.7  0. ]\n",
      " [ 0.7  0.1]\n",
      " [ 0.7  0.2]\n",
      " [ 0.7  0.3]\n",
      " [ 0.7  0.4]\n",
      " [ 0.8  0. ]\n",
      " [ 0.8  0.1]\n",
      " [ 0.8  0.2]\n",
      " [ 0.8  0.3]\n",
      " [ 0.8  0.4]\n",
      " [ 0.8  0.5]\n",
      " [ 0.9  0. ]\n",
      " [ 0.9  0.1]\n",
      " [ 0.9  0.2]\n",
      " [ 0.9  0.3]\n",
      " [ 0.9  0.4]\n",
      " [ 0.9  0.5]\n",
      " [ 0.9  0.6]\n",
      " [ 1.   0.1]\n",
      " [ 1.   0.2]\n",
      " [ 1.   0.3]\n",
      " [ 1.   0.4]\n",
      " [ 1.   0.5]\n",
      " [ 1.   0.6]\n",
      " [ 1.   0.7]]\n"
     ]
    }
   ],
   "source": [
    "np.set_printoptions(threshold=np.inf)\n",
    "print(a)\n"
   ]
  },
  {
   "cell_type": "code",
   "execution_count": 68,
   "id": "701399d9",
   "metadata": {},
   "outputs": [],
   "source": [
    "def sigmoid(result):\n",
    "    return 1/(1 + np.exp(-result))\n",
    "\n"
   ]
  },
  {
   "cell_type": "code",
   "execution_count": 69,
   "id": "d026131c",
   "metadata": {},
   "outputs": [],
   "source": [
    "k = -0.1  # slenkstis\n",
    "\n",
    "w = np.linspace(-1, 1, 21) # sukuriame svoriu intervala (-5, 5)\n",
    "# po 0.1\n",
    "\n",
    "\n",
    "def calc_sigm0(x_1, x_2): # metodas gauti masyva kur klasifikatoriaus reiksme 0\n",
    "    results_w_1 = np.array([]) # Tuscias masyvas\n",
    "    for i in w:\n",
    "        for j in w:\n",
    "            y = x_1*i + x_2*j + k # suskaiciuojama suma\n",
    "            result = sigmoid(y) # panaudota aktyvacijos funkcija\n",
    "            if result < 0.5:\n",
    "                results_w_1 = np.append(results_w_1, [i, j])\n",
    "\n",
    "    n = results_w_1.size\n",
    "    n = int(n/2)\n",
    "    results_w_1 = results_w_1.reshape(n, 2)\n",
    "    \n",
    "    return results_w_1 # graziname masyva su visais svoriais, kur gauname klasifikatoriu 0\n",
    "\n",
    "def calc_sigm1(x_1, x_2): # metodas gauti masyva reiksmiu, kur klasifikatorius 1\n",
    "    results_w_1 = np.array([])\n",
    "    for i in w:\n",
    "        for j in w:\n",
    "            y = x_1*i + x_2*j + k\n",
    "            result = sigmoid(y) # panaudota aktyvacijos funkcija\n",
    "            if result >= 0.5:\n",
    "                results_w_1 = np.append(results_w_1, [i, j])\n",
    "\n",
    "    n = results_w_1.size\n",
    "\n",
    "    n = int(n/2)\n",
    "    results_w_1 = results_w_1.reshape(n, 2)\n",
    "    \n",
    "    return results_w_1 # graziname masyva su visais svoriais kur klasifikatorius = 1\n"
   ]
  },
  {
   "cell_type": "code",
   "execution_count": 70,
   "id": "1c9c8e46",
   "metadata": {},
   "outputs": [],
   "source": [
    "arr_1 = calc_sigm0(-0.2, 0.5)\n",
    "arr_2 = calc_sigm0(0.2, -0.5)\n",
    "arr_3 = calc_sigm1(0.8, -0.8)\n",
    "arr_4 = calc_sigm1(0.8, 0.8)"
   ]
  },
  {
   "cell_type": "code",
   "execution_count": 74,
   "id": "9ef78ba3",
   "metadata": {},
   "outputs": [],
   "source": [
    "a_1 = compare(arr_1, arr_2)\n",
    "a_2 = compare(arr_3, arr_4)\n",
    "a = compare(a_1, a_2)\n",
    "a = np.unique(a, axis = 0) # labai neoptimaliai dirba masyvu sukurimas tai cia kad istrinti nereikalingus reiksmes\n"
   ]
  },
  {
   "cell_type": "code",
   "execution_count": 75,
   "id": "7cbf5247",
   "metadata": {},
   "outputs": [
    {
     "name": "stdout",
     "output_type": "stream",
     "text": [
      "[[0.2 0. ]\n",
      " [0.3 0. ]\n",
      " [0.3 0.1]\n",
      " [0.4 0. ]\n",
      " [0.4 0.1]\n",
      " [0.4 0.2]\n",
      " [0.5 0.1]\n",
      " [0.5 0.2]\n",
      " [0.5 0.3]\n",
      " [0.6 0.1]\n",
      " [0.6 0.2]\n",
      " [0.6 0.3]\n",
      " [0.6 0.4]\n",
      " [0.7 0.1]\n",
      " [0.7 0.2]\n",
      " [0.7 0.3]\n",
      " [0.7 0.4]\n",
      " [0.8 0.2]\n",
      " [0.8 0.3]\n",
      " [0.8 0.4]\n",
      " [0.8 0.5]\n",
      " [0.9 0.2]\n",
      " [0.9 0.3]\n",
      " [0.9 0.4]\n",
      " [0.9 0.5]\n",
      " [1.  0.3]\n",
      " [1.  0.4]\n",
      " [1.  0.5]]\n"
     ]
    }
   ],
   "source": [
    "np.set_printoptions(threshold=np.inf)\n",
    "print(a)\n"
   ]
  },
  {
   "cell_type": "code",
   "execution_count": 73,
   "id": "a5c1cd6d",
   "metadata": {},
   "outputs": [],
   "source": [
    "# 0.6 0.4"
   ]
  },
  {
   "cell_type": "code",
   "execution_count": null,
   "id": "060ea801",
   "metadata": {},
   "outputs": [],
   "source": []
  }
 ],
 "metadata": {
  "kernelspec": {
   "display_name": "Python 3",
   "language": "python",
   "name": "python3"
  },
  "language_info": {
   "codemirror_mode": {
    "name": "ipython",
    "version": 3
   },
   "file_extension": ".py",
   "mimetype": "text/x-python",
   "name": "python",
   "nbconvert_exporter": "python",
   "pygments_lexer": "ipython3",
   "version": "3.8.8"
  }
 },
 "nbformat": 4,
 "nbformat_minor": 5
}
