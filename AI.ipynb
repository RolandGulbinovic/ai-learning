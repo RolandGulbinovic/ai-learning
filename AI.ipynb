{
 "cells": [
  {
   "cell_type": "code",
   "execution_count": 1,
   "metadata": {},
   "outputs": [],
   "source": [
    "import numpy as np"
   ]
  },
  {
   "cell_type": "code",
   "execution_count": 2,
   "metadata": {},
   "outputs": [],
   "source": [
    "def bias(x_1, x_2, w_1, w_2, w_0):\n",
    "    result = x_1*w_1 + x_2*w_2 + w_0\n",
    "    if result >= 0:\n",
    "        return 1\n",
    "    if result < 0:\n",
    "        return 0\n",
    "    \n"
   ]
  },
  {
   "cell_type": "code",
   "execution_count": 3,
   "metadata": {},
   "outputs": [],
   "source": [
    "w_0 = -0.2  # slenkstis\n",
    "\n",
    "w = np.linspace(-1, 1, 21) # sukuriame svoriu intervala (-5, 5)\n",
    "# po 0.1\n",
    "\n",
    "\n",
    "def calc_bias0(x_1, x_2): # metodas gauti masyva kur klasifikatoriaus reiksme 0\n",
    "    results_w_1 = np.array([]) # Tuscias masyvas\n",
    "    for i in w:\n",
    "        for j in w:\n",
    "            result = bias(x_1, x_2, i, j, w_0)\n",
    "            if result == 0:\n",
    "                results_w_1 = np.append(results_w_1, [i, j])\n",
    "\n",
    "    n = results_w_1.size\n",
    "    n = int(n/2)\n",
    "    results_w_1 = results_w_1.reshape(n, 2)\n",
    "    \n",
    "    return results_w_1 # graziname masyva su visais svoriais, kur gauname klasifikatoriu 0\n",
    "\n",
    "\n",
    "def calc_bias1(x_1, x_2): # metodas gauti masyva kur klasifikatorius 1\n",
    "    results_w_1 = np.array([])\n",
    "    for i in w:\n",
    "        for j in w:\n",
    "            result = bias(x_1, x_2, i, j, w_0) # panaudota aktyvacijos funkcija\n",
    "            if result == 1:\n",
    "                results_w_1 = np.append(results_w_1, [i, j])\n",
    "\n",
    "    n = results_w_1.size\n",
    "\n",
    "    n = int(n/2)\n",
    "    results_w_1 = results_w_1.reshape(n, 2)\n",
    "    \n",
    "    return results_w_1 # graziname masyva su visais svoriais kur klasifikatorius = 1\n"
   ]
  },
  {
   "cell_type": "code",
   "execution_count": 4,
   "metadata": {},
   "outputs": [],
   "source": [
    "arr_1 = calc_bias0(-0.2, 0.5)\n",
    "arr_2 = calc_bias0(0.2, -0.5)\n",
    "arr_3 = calc_bias1(0.8, -0.8)\n",
    "arr_4 = calc_bias1(0.8, 0.8)"
   ]
  },
  {
   "cell_type": "code",
   "execution_count": 5,
   "metadata": {},
   "outputs": [],
   "source": [
    "def compare(arr_1, arr_2): # Palyginimo metodas\n",
    "    results_w = np.array([])\n",
    "    for i in arr_1:\n",
    "        for j in arr_2:\n",
    "            if i[0] == j[0]:\n",
    "                if i[1] == j[1]:\n",
    "                    results_w = np.append(results_w, [i, j])\n",
    "\n",
    "    n = results_w.size\n",
    "    n = int(n/2)\n",
    "    results_w = results_w.reshape(n, 2)\n",
    "    \n",
    "    return results_w # graziname pasikartojancias reiksmes \n"
   ]
  },
  {
   "cell_type": "code",
   "execution_count": 6,
   "metadata": {},
   "outputs": [],
   "source": [
    "a_1 = compare(arr_1, arr_2)\n",
    "a_2 = compare(arr_3, arr_4)\n",
    "a = compare(a_1, a_2)\n",
    "a = np.unique(a, axis = 0) # istriname nereikalingas\n"
   ]
  },
  {
   "cell_type": "code",
   "execution_count": 7,
   "metadata": {},
   "outputs": [
    {
     "name": "stdout",
     "output_type": "stream",
     "text": [
      "[[ 0.3  0. ]\n",
      " [ 0.4 -0.1]\n",
      " [ 0.4  0. ]\n",
      " [ 0.4  0.1]\n",
      " [ 0.5 -0.2]\n",
      " [ 0.5 -0.1]\n",
      " [ 0.5  0. ]\n",
      " [ 0.5  0.1]\n",
      " [ 0.5  0.2]\n",
      " [ 0.6 -0.1]\n",
      " [ 0.6  0. ]\n",
      " [ 0.6  0.1]\n",
      " [ 0.6  0.2]\n",
      " [ 0.6  0.3]\n",
      " [ 0.7 -0.1]\n",
      " [ 0.7  0. ]\n",
      " [ 0.7  0.1]\n",
      " [ 0.7  0.2]\n",
      " [ 0.7  0.3]\n",
      " [ 0.7  0.4]\n",
      " [ 0.8  0. ]\n",
      " [ 0.8  0.1]\n",
      " [ 0.8  0.2]\n",
      " [ 0.8  0.3]\n",
      " [ 0.8  0.4]\n",
      " [ 0.8  0.5]\n",
      " [ 0.9  0. ]\n",
      " [ 0.9  0.1]\n",
      " [ 0.9  0.2]\n",
      " [ 0.9  0.3]\n",
      " [ 0.9  0.4]\n",
      " [ 0.9  0.5]\n",
      " [ 0.9  0.6]\n",
      " [ 1.   0.1]\n",
      " [ 1.   0.2]\n",
      " [ 1.   0.3]\n",
      " [ 1.   0.4]\n",
      " [ 1.   0.5]\n",
      " [ 1.   0.6]\n",
      " [ 1.   0.7]]\n"
     ]
    }
   ],
   "source": [
    "np.set_printoptions(threshold=np.inf)\n",
    "print(a)\n"
   ]
  },
  {
   "cell_type": "code",
   "execution_count": 8,
   "metadata": {},
   "outputs": [],
   "source": [
    "def sigmoid(x_1, x_2, w_1, w_2, w_0):\n",
    "    result = x_1*w_1 + x_2*w_2 + w_0\n",
    "    y = 1/(1 + np.exp(-result))\n",
    "    if y >= 0.5:\n",
    "        return 1\n",
    "    if y < 0.5:\n",
    "        return 0\n",
    "\n"
   ]
  },
  {
   "cell_type": "code",
   "execution_count": 9,
   "metadata": {},
   "outputs": [],
   "source": [
    "w_0 = -0.1  # slenkstis\n",
    "\n",
    "w = np.linspace(-1, 1, 21) # sukuriame svoriu intervala (-5, 5)\n",
    "# po 0.1\n",
    "\n",
    "\n",
    "def calc_sigm0(x_1, x_2): # metodas gauti masyva kur klasifikatoriaus reiksme 0\n",
    "    results_w_1 = np.array([]) # Tuscias masyvas\n",
    "    for i in w:\n",
    "        for j in w:\n",
    "            result = sigmoid(x_1, x_2, i, j, w_0) # panaudota aktyvacijos funkcija\n",
    "            if result == 0:\n",
    "                results_w_1 = np.append(results_w_1, [i, j])\n",
    "\n",
    "    n = results_w_1.size\n",
    "    n = int(n/2)\n",
    "    results_w_1 = results_w_1.reshape(n, 2)\n",
    "    \n",
    "    return results_w_1 # graziname masyva su visais svoriais, kur gauname klasifikatoriu 0\n",
    "\n",
    "def calc_sigm1(x_1, x_2): # metodas gauti masyva reiksmiu, kur klasifikatorius 1\n",
    "    results_w_1 = np.array([])\n",
    "    for i in w:\n",
    "        for j in w:\n",
    "            result = sigmoid(x_1, x_2, i, j, w_0)\n",
    "            if result == 1:\n",
    "                results_w_1 = np.append(results_w_1, [i, j])\n",
    "\n",
    "    n = results_w_1.size\n",
    "\n",
    "    n = int(n/2)\n",
    "    results_w_1 = results_w_1.reshape(n, 2)\n",
    "    \n",
    "    return results_w_1 # graziname masyva su visais svoriais kur klasifikatorius = 1\n"
   ]
  },
  {
   "cell_type": "code",
   "execution_count": 10,
   "metadata": {},
   "outputs": [],
   "source": [
    "arr_1 = calc_sigm0(-0.2, 0.5)\n",
    "arr_2 = calc_sigm0(0.2, -0.5)\n",
    "arr_3 = calc_sigm1(0.8, -0.8)\n",
    "arr_4 = calc_sigm1(0.8, 0.8)"
   ]
  },
  {
   "cell_type": "code",
   "execution_count": 11,
   "metadata": {},
   "outputs": [],
   "source": [
    "a_1 = compare(arr_1, arr_2)\n",
    "a_2 = compare(arr_3, arr_4)\n",
    "a = compare(a_1, a_2)\n",
    "a = np.unique(a, axis = 0) # labai neoptimaliai dirba masyvu sukurimas tai cia kad istrinti nereikalingus reiksmes\n"
   ]
  },
  {
   "cell_type": "code",
   "execution_count": 12,
   "metadata": {},
   "outputs": [
    {
     "name": "stdout",
     "output_type": "stream",
     "text": [
      "[[0.2 0. ]\n",
      " [0.3 0. ]\n",
      " [0.3 0.1]\n",
      " [0.4 0. ]\n",
      " [0.4 0.1]\n",
      " [0.4 0.2]\n",
      " [0.5 0.1]\n",
      " [0.5 0.2]\n",
      " [0.5 0.3]\n",
      " [0.6 0.1]\n",
      " [0.6 0.2]\n",
      " [0.6 0.3]\n",
      " [0.6 0.4]\n",
      " [0.7 0.1]\n",
      " [0.7 0.2]\n",
      " [0.7 0.3]\n",
      " [0.7 0.4]\n",
      " [0.8 0.2]\n",
      " [0.8 0.3]\n",
      " [0.8 0.4]\n",
      " [0.8 0.5]\n",
      " [0.9 0.2]\n",
      " [0.9 0.3]\n",
      " [0.9 0.4]\n",
      " [0.9 0.5]\n",
      " [1.  0.3]\n",
      " [1.  0.4]\n",
      " [1.  0.5]]\n"
     ]
    }
   ],
   "source": [
    "np.set_printoptions(threshold=np.inf)\n",
    "print(a)\n"
   ]
  },
  {
   "cell_type": "code",
   "execution_count": 73,
   "metadata": {},
   "outputs": [],
   "source": [
    "# 0.6 0.4"
   ]
  },
  {
   "cell_type": "code",
   "execution_count": 23,
   "metadata": {},
   "outputs": [
    {
     "name": "stdout",
     "output_type": "stream",
     "text": [
      "(0, None)\n",
      "(0, None)\n",
      "(1, None)\n",
      "(1, None)\n"
     ]
    }
   ],
   "source": [
    "r_1 = bias(-0.2, 0.5, 0.6, 0.3, -0.2) print(r_1)\n",
    "r_2 = bias(0.2, -0.5, 0.6, 0.3, -0.2), print(r_2)\n",
    "r_3 = bias(0.8, -0.8, 0.6, 0.3, -0.2), print(r_3)\n",
    "r_4 = bias(0.8, 0.8, 0.6, 0.3, -0.2), print(r_4)"
   ]
  },
  {
   "cell_type": "code",
   "execution_count": 19,
   "metadata": {},
   "outputs": [
    {
     "name": "stdout",
     "output_type": "stream",
     "text": [
      "0\n",
      "0\n",
      "1\n",
      "1\n"
     ]
    }
   ],
   "source": [
    "r_1 = sigmoid(-0.2, 0.5, 0.6, 0.4, -0.1)\n",
    "r_2 = sigmoid(0.2, -0.5, 0.6, 0.4, -0.1)\n",
    "r_3 = sigmoid(0.8, -0.8, 0.6, 0.4, -0.1)\n",
    "r_4 = sigmoid(0.8, 0.8, 0.6, 0.4, -0.1)\n",
    "print(r_1)\n",
    "print(r_2)\n",
    "print(r_3)\n",
    "print(r_4)"
   ]
  },
  {
   "cell_type": "code",
   "execution_count": null,
   "metadata": {},
   "outputs": [],
   "source": []
  }
 ],
 "metadata": {
  "kernelspec": {
   "display_name": "Python 3",
   "language": "python",
   "name": "python3"
  },
  "language_info": {
   "codemirror_mode": {
    "name": "ipython",
    "version": 3
   },
   "file_extension": ".py",
   "mimetype": "text/x-python",
   "name": "python",
   "nbconvert_exporter": "python",
   "pygments_lexer": "ipython3",
   "version": "3.8.5"
  }
 },
 "nbformat": 4,
 "nbformat_minor": 5
}
